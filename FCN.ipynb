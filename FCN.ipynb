version https://git-lfs.github.com/spec/v1
oid sha256:0d5ec71dc8c8ab80cb7b2c2814ab94e45869e09cb5f7cbe24a7b73eae2323259
size 2123175
