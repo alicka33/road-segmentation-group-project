version https://git-lfs.github.com/spec/v1
oid sha256:ffc2a3b182d07edee45d1ec15d7c105cceb525e558f37701e5e7567e9c0fb65d
size 4796340
